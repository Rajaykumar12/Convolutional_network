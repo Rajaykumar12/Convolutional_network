{
 "cells": [
  {
   "cell_type": "markdown",
   "metadata": {
    "colab_type": "text",
    "id": "view-in-github"
   },
   "source": [
    "<a href=\"https://colab.research.google.com/github/Rajaykumar12/Convolutional_network/blob/main/CNN.ipynb\" target=\"_parent\"><img src=\"https://colab.research.google.com/assets/colab-badge.svg\" alt=\"Open In Colab\"/></a>"
   ]
  },
  {
   "cell_type": "markdown",
   "metadata": {
    "id": "7af6e1b9"
   },
   "source": [
    "\n"
   ]
  },
  {
   "cell_type": "code",
   "execution_count": 1,
   "metadata": {
    "id": "96858004"
   },
   "outputs": [],
   "source": [
    "# This cell imports the necessary libraries for the script. These libraries are crucial for various tasks including loading and processing data, building and training neural networks, and visualizing the results.\n",
    "# - tensorflow (imported as tf): A powerful open-source library for machine learning and deep learning, used here for building and training the neural network model.\n",
    "# - matplotlib.pyplot (imported as plt): A plotting library used for creating visualizations, such as plotting the training and validation accuracy and loss curves.\n",
    "# - sklearn.model_selection: A scikit-learn module used for splitting data, specifically the train_test_split function for dividing the dataset into training and validation sets.\n",
    "# - numpy (imported as np): A fundamental package for scientific computing in Python, used for numerical operations on arrays and matrices.\n",
    "# - pandas (imported as pd): A data manipulation and analysis library, although not directly used in this specific script, it's a common library for data handling in data science workflows.\n",
    "# - tensorflow.keras.preprocessing.image.ImageDataGenerator: Used for real-time data augmentation, which helps in increasing the size and diversity of the training dataset.\n",
    "# - tensorflow.keras.callbacks.EarlyStopping: A callback function used during model training to stop training when a monitored metric has stopped improving, preventing overfitting."
   ]
  },
  {
   "cell_type": "code",
   "execution_count": 3,
   "metadata": {
    "id": "wGsubyQyNb45"
   },
   "outputs": [
    {
     "ename": "ModuleNotFoundError",
     "evalue": "No module named 'tensorflow'",
     "output_type": "error",
     "traceback": [
      "\u001b[31m---------------------------------------------------------------------------\u001b[39m",
      "\u001b[31mModuleNotFoundError\u001b[39m                       Traceback (most recent call last)",
      "\u001b[36mCell\u001b[39m\u001b[36m \u001b[39m\u001b[32mIn[3]\u001b[39m\u001b[32m, line 1\u001b[39m\n\u001b[32m----> \u001b[39m\u001b[32m1\u001b[39m \u001b[38;5;28;01mimport\u001b[39;00m\u001b[38;5;250m \u001b[39m\u001b[34;01mtensorflow\u001b[39;00m\u001b[38;5;250m \u001b[39m\u001b[38;5;28;01mas\u001b[39;00m\u001b[38;5;250m \u001b[39m\u001b[34;01mtf\u001b[39;00m\n\u001b[32m      2\u001b[39m \u001b[38;5;28;01mimport\u001b[39;00m\u001b[38;5;250m \u001b[39m\u001b[34;01mmatplotlib\u001b[39;00m\u001b[34;01m.\u001b[39;00m\u001b[34;01mpyplot\u001b[39;00m\u001b[38;5;250m \u001b[39m\u001b[38;5;28;01mas\u001b[39;00m\u001b[38;5;250m \u001b[39m\u001b[34;01mplt\u001b[39;00m\n\u001b[32m      3\u001b[39m \u001b[38;5;28;01mfrom\u001b[39;00m\u001b[38;5;250m \u001b[39m\u001b[34;01msklearn\u001b[39;00m\u001b[34;01m.\u001b[39;00m\u001b[34;01mmodel_selection\u001b[39;00m\u001b[38;5;250m \u001b[39m\u001b[38;5;28;01mimport\u001b[39;00m train_test_split\n",
      "\u001b[31mModuleNotFoundError\u001b[39m: No module named 'tensorflow'"
     ]
    }
   ],
   "source": [
    "import tensorflow as tf\n",
    "import matplotlib.pyplot as plt\n",
    "from sklearn.model_selection import train_test_split\n",
    "import numpy as np\n",
    "import pandas as pd\n",
    "from tensorflow.keras.preprocessing.image import ImageDataGenerator\n",
    "from tensorflow.keras.callbacks import EarlyStopping"
   ]
  },
  {
   "cell_type": "code",
   "execution_count": null,
   "metadata": {
    "id": "c01ecf42"
   },
   "outputs": [],
   "source": [
    "# This cell loads the MNIST dataset, a widely used dataset of handwritten digits.\n",
    "# The dataset is split into training and testing sets and loaded into the following variables:\n",
    "# - train_images: Contains the images for training.\n",
    "# - train_labels: Contains the corresponding labels (digits) for the training images.\n",
    "# - test_images: Contains the images for testing.\n",
    "# - test_labels: Contains the corresponding labels for the testing images.\n",
    "# Additionally, the cell visualizes the first image from the training set using matplotlib to show an example of the data. The title of the plot displays the label of the image, indicating the actual digit it represents."
   ]
  },
  {
   "cell_type": "code",
   "execution_count": null,
   "metadata": {
    "colab": {
     "base_uri": "https://localhost:8080/",
     "height": 487
    },
    "id": "ynY5HU85O2sM",
    "outputId": "67c0c3e6-eac8-4009-9f62-0b96d87f78fa"
   },
   "outputs": [
    {
     "name": "stdout",
     "output_type": "stream",
     "text": [
      "Downloading data from https://storage.googleapis.com/tensorflow/tf-keras-datasets/mnist.npz\n",
      "\u001b[1m11490434/11490434\u001b[0m \u001b[32m━━━━━━━━━━━━━━━━━━━━\u001b[0m\u001b[37m\u001b[0m \u001b[1m1s\u001b[0m 0us/step\n"
     ]
    },
    {
     "data": {
      "image/png": "[encoded data removed]",
      "text/plain": [
       "<Figure size 640x480 with 1 Axes>"
      ]
     },
     "metadata": {},
     "output_type": "display_data"
    }
   ],
   "source": [
    "(train_images, train_labels), (test_images, test_labels) = tf.keras.datasets.mnist.load_data()\n",
    "\n",
    "\n",
    "plt.imshow(train_images[0], cmap='gray')\n",
    "plt.title(f\"Label: {train_labels[0]}\")\n",
    "plt.show()"
   ]
  },
  {
   "cell_type": "code",
   "execution_count": null,
   "metadata": {
    "id": "a567640c"
   },
   "outputs": [],
   "source": [
    "# This cell displays the shape of the 'train_images' array.\n",
    "# The output (60000, 28, 28) indicates that there are 60,000 training images,\n",
    "# each with a height of 28 pixels and a width of 28 pixels.\n",
    "\n",
    "# This cell displays the shape of the 'test_images' array.\n",
    "# The output (10000, 28, 28) indicates that there are 10,000 testing images,\n",
    "# each with a height of 28 pixels and a width of 28 pixels."
   ]
  },
  {
   "cell_type": "code",
   "execution_count": null,
   "metadata": {
    "colab": {
     "base_uri": "https://localhost:8080/"
    },
    "id": "f3QO5uvzODxL",
    "outputId": "ed4363b8-c91c-441c-832d-5fbbc70606e5"
   },
   "outputs": [
    {
     "data": {
      "text/plain": [
       "(60000, 28, 28)"
      ]
     },
     "execution_count": 3,
     "metadata": {},
     "output_type": "execute_result"
    }
   ],
   "source": [
    "train_images.shape"
   ]
  },
  {
   "cell_type": "code",
   "execution_count": null,
   "metadata": {
    "colab": {
     "base_uri": "https://localhost:8080/"
    },
    "id": "BCQBYvecOId5",
    "outputId": "eb7f6dd4-ef58-44e4-d364-3e46746a0cc6"
   },
   "outputs": [
    {
     "data": {
      "text/plain": [
       "(10000, 28, 28)"
      ]
     },
     "execution_count": 4,
     "metadata": {},
     "output_type": "execute_result"
    }
   ],
   "source": [
    "test_images.shape"
   ]
  },
  {
   "cell_type": "code",
   "execution_count": null,
   "metadata": {
    "id": "e994457e"
   },
   "outputs": [],
   "source": [
    "# This cell performs normalization on the image data.\n",
    "# Normalization is a crucial preprocessing step that scales the pixel values of the images to a specific range, typically between 0 and 1.\n",
    "# This is achieved by dividing each pixel value in both the training and testing image datasets ('train_images' and 'test_images') by 255.0, which is the maximum possible pixel value in an 8-bit grayscale image.\n",
    "# Normalizing the data helps improve the performance and stability of the neural network model during training."
   ]
  },
  {
   "cell_type": "code",
   "execution_count": null,
   "metadata": {
    "id": "UAoAQI8vOL_X"
   },
   "outputs": [],
   "source": [
    "train_images, test_images = train_images / 255.0, test_images / 255.0"
   ]
  },
  {
   "cell_type": "code",
   "execution_count": null,
   "metadata": {
    "id": "ef377822"
   },
   "outputs": [],
   "source": [
    "# This cell splits the original training data into new training and validation sets using `train_test_split` from scikit-learn.\n",
    "# - `train_images` and `train_labels` are the input data to be split.\n",
    "# - `test_size=0.2` allocates 20% of the original training data for the validation set.\n",
    "# - `random_state=42` ensures that the data split is the same every time the code is run, making the results reproducible.\n",
    "# The resulting datasets are stored in `train_images`, `val_images`, `train_labels`, and `val_labels`."
   ]
  },
  {
   "cell_type": "code",
   "execution_count": null,
   "metadata": {
    "id": "L-kSAO4_OWf7"
   },
   "outputs": [],
   "source": [
    "from sklearn.model_selection import train_test_split\n",
    "\n",
    "train_images, val_images, train_labels, val_labels = train_test_split(train_images, train_labels, test_size=0.2, random_state=42)"
   ]
  },
  {
   "cell_type": "code",
   "execution_count": null,
   "metadata": {
    "id": "f0280e86"
   },
   "outputs": [],
   "source": [
    "# This cell sets up data augmentation for the training images using `ImageDataGenerator` from Keras.\n",
    "# Data augmentation is a technique used to artificially increase the size and variability of the training dataset\n",
    "# by applying random transformations to the existing images. This helps to improve the model's ability to generalize\n",
    "# to unseen data and can prevent overfitting.\n",
    "# The `ImageDataGenerator` is configured with the following augmentation parameters:\n",
    "# - rotation_range=10: Randomly rotates images by a maximum of 10 degrees.\n",
    "# - zoom_range=0.1: Randomly zooms in or out on images by up to 10%.\n",
    "# - width_shift_range=0.1: Randomly shifts images horizontally by up to 10% of the total width.\n",
    "# - height_shift_range=0.1: Randomly shifts images vertically by up to 10% of the total height.\n",
    "# Finally, `datagen.fit(train_images.reshape(-1, 28, 28, 1))` fits the data generator to the training images.\n",
    "# The images are reshaped to include a channel dimension (1 for grayscale) as required by the generator."
   ]
  },
  {
   "cell_type": "code",
   "execution_count": null,
   "metadata": {
    "id": "F52hGVv2OrbE"
   },
   "outputs": [],
   "source": [
    "datagen = ImageDataGenerator(\n",
    "    rotation_range = 10,\n",
    "    zoom_range = 0.1,\n",
    "    width_shift_range = 0.1,\n",
    "    height_shift_range = 0.1\n",
    ")\n",
    "\n",
    "datagen.fit(train_images.reshape(-1, 28, 28, 1))"
   ]
  },
  {
   "cell_type": "code",
   "execution_count": null,
   "metadata": {
    "id": "f200797d"
   },
   "outputs": [],
   "source": [
    "# This cell defines the architecture of the neural network model using TensorFlow's Keras Sequential API.\n",
    "# A Sequential model is a linear stack of layers.\n",
    "# The model is built layer by layer as follows:\n",
    "# - tf.keras.layers.Flatten(input_shape=(28, 28)): This is the input layer. It flattens the 28x28 pixel images into a 1D array of 784 pixels, preparing them for the subsequent dense layers.\n",
    "# - tf.keras.layers.BatchNormalization(): This layer normalizes the activations of the previous layer. Batch normalization helps stabilize and accelerate the training process by reducing internal covariate shift.\n",
    "# - tf.keras.layers.Dense(128, activation='relu'): This is the first hidden layer. It's a densely connected layer with 128 neurons. The 'relu' (Rectified Linear Unit) activation function is used, which introduces non-linearity into the model.\n",
    "# - tf.keras.layers.Dropout(0.2): This layer implements dropout regularization. It randomly sets 20% of the input units to 0 during training, which helps prevent overfitting by making the network less reliant on specific neurons.\n",
    "# - tf.keras.layers.BatchNormalization(): Another batch normalization layer to normalize the output of the previous dense layer.\n",
    "# - tf.keras.layers.Dense(64, activation='relu'): This is the second hidden layer, a densely connected layer with 64 neurons and a 'relu' activation function.\n",
    "# - tf.keras.layers.Dropout(0.2): Another dropout layer with a rate of 20% to further prevent overfitting.\n",
    "# - tf.keras.layers.BatchNormalization(): A third batch normalization layer.\n",
    "# - tf.keras.layers.Dense(10, activation='softmax'): This is the output layer. It's a densely connected layer with 10 neurons, one for each digit class (0-9). The 'softmax' activation function is used to produce a probability distribution over the 10 classes, where the output of each neuron represents the predicted probability of the input image belonging to that class."
   ]
  },
  {
   "cell_type": "code",
   "execution_count": null,
   "metadata": {
    "colab": {
     "base_uri": "https://localhost:8080/"
    },
    "id": "huiO5plOPUq_",
    "outputId": "a83e8c1b-1694-4a04-c954-25e1e967a016"
   },
   "outputs": [
    {
     "name": "stderr",
     "output_type": "stream",
     "text": [
      "/usr/local/lib/python3.11/dist-packages/keras/src/layers/convolutional/base_conv.py:107: UserWarning: Do not pass an `input_shape`/`input_dim` argument to a layer. When using Sequential models, prefer using an `Input(shape)` object as the first layer in the model instead.\n",
      "  super().__init__(activity_regularizer=activity_regularizer, **kwargs)\n"
     ]
    }
   ],
   "source": [
    "model = tf.keras.Sequential([\n",
    "    tf.keras.layers.Conv2D(32, (3, 3), activation='relu', input_shape=(28, 28, 1)),\n",
    "    tf.keras.layers.MaxPooling2D((2, 2)),\n",
    "    tf.keras.layers.BatchNormalization(),\n",
    "    tf.keras.layers.Conv2D(64, (3, 3), activation='relu'),\n",
    "    tf.keras.layers.MaxPooling2D((2, 2)),\n",
    "    tf.keras.layers.BatchNormalization(),\n",
    "    tf.keras.layers.Flatten(),\n",
    "    tf.keras.layers.Dense(128, activation='relu'),\n",
    "    tf.keras.layers.Dropout(0.2),\n",
    "    tf.keras.layers.BatchNormalization(),\n",
    "    tf.keras.layers.Dense(64, activation='relu'),\n",
    "    tf.keras.layers.Dropout(0.2),\n",
    "    tf.keras.layers.BatchNormalization(),\n",
    "    tf.keras.layers.Dense(10, activation='softmax')\n",
    "])"
   ]
  },
  {
   "cell_type": "code",
   "execution_count": null,
   "metadata": {
    "id": "46a6dcc3"
   },
   "outputs": [],
   "source": [
    "# This cell defines an Early Stopping callback, which is a powerful tool used during model training to prevent overfitting.\n",
    "# Early stopping monitors a specified metric (usually validation loss or accuracy) and stops the training process if the metric\n",
    "# stops improving for a certain number of epochs, even if the total number of epochs specified for training has not been reached.\n",
    "# This helps in finding the optimal number of training epochs, avoiding the point where the model starts to learn noise in the training data.\n",
    "\n",
    "# The `EarlyStopping` callback is configured with the following parameters:\n",
    "# - min_delta=0.001: This is the minimum change in the monitored metric (by default, validation loss) that is considered an improvement. Training will continue as long as the improvement is greater than this value.\n",
    "# - patience=20: This is the number of epochs with no significant improvement (less than `min_delta`) after which training will be stopped. It provides a buffer to allow for potential fluctuations in the monitored metric.\n",
    "# - restore_best_weights=True: If set to True, the model's weights will be restored to the values from the epoch with the best value of the monitored metric when training stops. This ensures that the final model has the best performance achieved during the training process."
   ]
  },
  {
   "cell_type": "code",
   "execution_count": null,
   "metadata": {
    "id": "o61XG56wYlK-"
   },
   "outputs": [],
   "source": [
    "early_stopping = EarlyStopping(min_delta=0.001,\n",
    "                               patience = 20,\n",
    "                               restore_best_weights = True)"
   ]
  },
  {
   "cell_type": "code",
   "execution_count": null,
   "metadata": {
    "id": "f909d834"
   },
   "outputs": [],
   "source": [
    "# This cell compiles the neural network model, which is a necessary step before training.\n",
    "# Compiling the model configures the learning process.\n",
    "# The `compile()` method takes three key arguments:\n",
    "# - optimizer='adam': This specifies the optimization algorithm used to update the model's weights during training. 'adam' is a popular and effective optimizer that adapts the learning rate during training.\n",
    "# - loss='sparse_categorical_crossentropy': This defines the loss function, which measures how well the model's predictions match the actual labels. 'sparse_categorical_crossentropy' is suitable for multi-class classification problems where the labels are integers (like the MNIST digits). It calculates the loss between the predicted probability distribution and the true class label.\n",
    "# - metrics=['accuracy']: This specifies the metric(s) used to evaluate the model's performance during training and testing. 'accuracy' is a common metric for classification problems, representing the proportion of correctly classified instances."
   ]
  },
  {
   "cell_type": "code",
   "execution_count": null,
   "metadata": {
    "id": "9U2iWgo6WsZK"
   },
   "outputs": [],
   "source": [
    "model.compile(optimizer='adam',\n",
    "              loss='sparse_categorical_crossentropy',\n",
    "              metrics=['accuracy'],\n",
    "              )"
   ]
  },
  {
   "cell_type": "code",
   "execution_count": null,
   "metadata": {
    "id": "7d49ead3"
   },
   "outputs": [],
   "source": [
    "# This cell trains the neural network model using the `fit()` method.\n",
    "# The `fit()` method is where the model learns from the training data.\n",
    "# The arguments passed to the `fit()` method are:\n",
    "# - `train_images` and `train_labels`: The training data and their corresponding labels. The model will learn the relationship between the images and their labels from this data.\n",
    "# - `epochs=10`: This specifies the number of times the model will iterate over the entire training dataset. In this case, the model will see the full training data 10 times.\n",
    "# - `validation_data=(val_images, val_labels)`: This is the data on which to evaluate the loss and any model metrics at the end of each epoch. It allows us to monitor the model's performance on unseen data as it trains.\n",
    "# - `batch_size=32`: This is the number of samples per gradient update. The training data is divided into batches of 32 images, and the model's weights are updated after each batch.\n",
    "# - `callbacks=[early_stopping]`: This is a list of callbacks to apply during training. Here, we use the `EarlyStopping` callback defined earlier to monitor the validation loss and stop training if it doesn't improve, which helps prevent overfitting.\n",
    "# The training history, including metrics like accuracy and loss for both the training and validation sets for each epoch, is stored in the `history` object."
   ]
  },
  {
   "cell_type": "code",
   "execution_count": null,
   "metadata": {
    "colab": {
     "base_uri": "https://localhost:8080/"
    },
    "id": "hbwbRgxKW_z0",
    "outputId": "86767310-e23a-4078-e44f-ea9b94bee3cd"
   },
   "outputs": [
    {
     "name": "stdout",
     "output_type": "stream",
     "text": [
      "Epoch 1/10\n"
     ]
    },
    {
     "name": "stderr",
     "output_type": "stream",
     "text": [
      "/usr/local/lib/python3.11/dist-packages/keras/src/trainers/data_adapters/py_dataset_adapter.py:121: UserWarning: Your `PyDataset` class should call `super().__init__(**kwargs)` in its constructor. `**kwargs` can include `workers`, `use_multiprocessing`, `max_queue_size`. Do not pass these arguments to `fit()`, as they will be ignored.\n",
      "  self._warn_if_super_not_called()\n"
     ]
    },
    {
     "name": "stdout",
     "output_type": "stream",
     "text": [
      "\u001b[1m1500/1500\u001b[0m \u001b[32m━━━━━━━━━━━━━━━━━━━━\u001b[0m\u001b[37m\u001b[0m \u001b[1m30s\u001b[0m 15ms/step - accuracy: 0.7978 - loss: 0.6524 - val_accuracy: 0.9794 - val_loss: 0.0657\n",
      "Epoch 2/10\n",
      "\u001b[1m1500/1500\u001b[0m \u001b[32m━━━━━━━━━━━━━━━━━━━━\u001b[0m\u001b[37m\u001b[0m \u001b[1m21s\u001b[0m 14ms/step - accuracy: 0.9547 - loss: 0.1508 - val_accuracy: 0.9852 - val_loss: 0.0506\n",
      "Epoch 3/10\n",
      "\u001b[1m1500/1500\u001b[0m \u001b[32m━━━━━━━━━━━━━━━━━━━━\u001b[0m\u001b[37m\u001b[0m \u001b[1m21s\u001b[0m 14ms/step - accuracy: 0.9635 - loss: 0.1252 - val_accuracy: 0.9817 - val_loss: 0.0600\n",
      "Epoch 4/10\n",
      "\u001b[1m1500/1500\u001b[0m \u001b[32m━━━━━━━━━━━━━━━━━━━━\u001b[0m\u001b[37m\u001b[0m \u001b[1m21s\u001b[0m 14ms/step - accuracy: 0.9702 - loss: 0.1047 - val_accuracy: 0.9849 - val_loss: 0.0524\n",
      "Epoch 5/10\n",
      "\u001b[1m1500/1500\u001b[0m \u001b[32m━━━━━━━━━━━━━━━━━━━━\u001b[0m\u001b[37m\u001b[0m \u001b[1m41s\u001b[0m 14ms/step - accuracy: 0.9728 - loss: 0.0914 - val_accuracy: 0.9862 - val_loss: 0.0455\n",
      "Epoch 6/10\n",
      "\u001b[1m1500/1500\u001b[0m \u001b[32m━━━━━━━━━━━━━━━━━━━━\u001b[0m\u001b[37m\u001b[0m \u001b[1m21s\u001b[0m 14ms/step - accuracy: 0.9754 - loss: 0.0825 - val_accuracy: 0.9880 - val_loss: 0.0356\n",
      "Epoch 7/10\n",
      "\u001b[1m1500/1500\u001b[0m \u001b[32m━━━━━━━━━━━━━━━━━━━━\u001b[0m\u001b[37m\u001b[0m \u001b[1m21s\u001b[0m 14ms/step - accuracy: 0.9788 - loss: 0.0727 - val_accuracy: 0.9902 - val_loss: 0.0345\n",
      "Epoch 8/10\n",
      "\u001b[1m1500/1500\u001b[0m \u001b[32m━━━━━━━━━━━━━━━━━━━━\u001b[0m\u001b[37m\u001b[0m \u001b[1m21s\u001b[0m 14ms/step - accuracy: 0.9799 - loss: 0.0723 - val_accuracy: 0.9869 - val_loss: 0.0442\n",
      "Epoch 9/10\n",
      "\u001b[1m1500/1500\u001b[0m \u001b[32m━━━━━━━━━━━━━━━━━━━━\u001b[0m\u001b[37m\u001b[0m \u001b[1m40s\u001b[0m 14ms/step - accuracy: 0.9809 - loss: 0.0671 - val_accuracy: 0.9933 - val_loss: 0.0233\n",
      "Epoch 10/10\n",
      "\u001b[1m1500/1500\u001b[0m \u001b[32m━━━━━━━━━━━━━━━━━━━━\u001b[0m\u001b[37m\u001b[0m \u001b[1m21s\u001b[0m 14ms/step - accuracy: 0.9822 - loss: 0.0601 - val_accuracy: 0.9914 - val_loss: 0.0289\n"
     ]
    }
   ],
   "source": [
    "history = model.fit(datagen.flow(train_images.reshape(-1, 28, 28, 1), train_labels, batch_size=32),\n",
    "                    epochs=10,\n",
    "                    validation_data=(val_images.reshape(-1, 28, 28, 1), val_labels),\n",
    "                    callbacks= [early_stopping])"
   ]
  },
  {
   "cell_type": "code",
   "execution_count": null,
   "metadata": {
    "colab": {
     "base_uri": "https://localhost:8080/",
     "height": 449
    },
    "id": "sD6YCB80XxqM",
    "outputId": "26229b14-0c97-498e-8cf6-89ef1a3f6357"
   },
   "outputs": [
    {
     "data": {
      "image/png": "[encoded data removed]",
      "text/plain": [
       "<Figure size 640x480 with 1 Axes>"
      ]
     },
     "metadata": {},
     "output_type": "display_data"
    }
   ],
   "source": [
    "plt.plot(history.history['accuracy'], label='Training accuracy')\n",
    "plt.plot(history.history['val_accuracy'], label = 'Validation accuracy')\n",
    "plt.xlabel('Epoch')\n",
    "plt.ylabel('Accuracy')\n",
    "plt.legend()\n",
    "plt.show()"
   ]
  },
  {
   "cell_type": "code",
   "execution_count": null,
   "metadata": {
    "colab": {
     "base_uri": "https://localhost:8080/",
     "height": 449
    },
    "id": "ncSBGb-OYC7u",
    "outputId": "182cddf5-1a4f-4789-fc2a-8e1c410f98f2"
   },
   "outputs": [
    {
     "data": {
      "image/png": "[encoded data removed]",
      "text/plain": [
       "<Figure size 640x480 with 1 Axes>"
      ]
     },
     "metadata": {},
     "output_type": "display_data"
    }
   ],
   "source": [
    "plt.plot(history.history['loss'], label='Training loss')\n",
    "plt.plot(history.history['val_loss'], label = 'Validation loss')\n",
    "plt.xlabel('Epoch')\n",
    "plt.ylabel('Loss')\n",
    "plt.legend()\n",
    "plt.show()"
   ]
  }
 ],
 "metadata": {
  "accelerator": "GPU",
  "colab": {
   "authorship_tag": "ABX9TyNjPsfGnLukAIt6AzzGimJA",
   "gpuType": "T4",
   "include_colab_link": true,
   "provenance": []
  },
  "kernelspec": {
   "display_name": "Python 3 (ipykernel)",
   "language": "python",
   "name": "python3"
  },
  "language_info": {
   "codemirror_mode": {
    "name": "ipython",
    "version": 3
   },
   "file_extension": ".py",
   "mimetype": "text/x-python",
   "name": "python",
   "nbconvert_exporter": "python",
   "pygments_lexer": "ipython3",
   "version": "3.12.6"
  }
 },
 "nbformat": 4,
 "nbformat_minor": 4
}
